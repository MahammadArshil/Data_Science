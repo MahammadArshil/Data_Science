{
 "cells": [
  {
   "cell_type": "code",
   "execution_count": 2,
   "id": "7b8ee96b",
   "metadata": {},
   "outputs": [
    {
     "name": "stdout",
     "output_type": "stream",
     "text": [
      "Output of append() method : ['A', 'B', 'C', 'D', 'E', 'F']\n",
      "Output of clear() method : []\n",
      "Output of copy() method : ['A', 'B', 'C', 'D', 'E', 'F']\n",
      "Output of count() method : 1\n",
      "Output of index() method : 2\n",
      "Output of insert() method : ['A', 'B', 'C', 'D', 'E', 'F', 'G']\n",
      "Output of pop() method : ['A', 'B', 'C', 'D', 'E', 'F']\n",
      "Output of remove() method : ['A', 'B', 'C', 'D', 'E']\n",
      "Output of reverse() method : ['E', 'D', 'C', 'B', 'A']\n",
      "Output of sort() method : ['A', 'B', 'C', 'D', 'E']\n"
     ]
    }
   ],
   "source": [
    "# 1) A) List Methods.\n",
    "list1=['A','B','C','D','E']\n",
    "list2=[1,2,3,4,5,6]\n",
    "\n",
    "list1.append('F')  # append method\n",
    "print(\"Output of append() method :\",list1)\n",
    "\n",
    "list2.clear()  # clear method\n",
    "print(\"Output of clear() method :\",list2)\n",
    "\n",
    "C=list1.copy()  # copy method\n",
    "print(\"Output of copy() method :\",C)\n",
    "\n",
    "Co=list1.count('A')  # count method\n",
    "print(\"Output of count() method :\",Co)\n",
    "\n",
    "I=list1.index('C')  # index method\n",
    "print(\"Output of index() method :\",I)\n",
    "\n",
    "list1.insert(6,'G')  # insert method\n",
    "print(\"Output of insert() method :\",list1)\n",
    "\n",
    "list1.pop(6)  # pop method\n",
    "print(\"Output of pop() method :\",list1)\n",
    "\n",
    "list1.remove('F')  # remove method\n",
    "print(\"Output of remove() method :\",list1)\n",
    "\n",
    "list1.reverse()  # reverse method\n",
    "print(\"Output of reverse() method :\",list1)\n",
    "\n",
    "list1.sort()  # sort method\n",
    "print(\"Output of sort() method :\",list1)"
   ]
  },
  {
   "cell_type": "code",
   "execution_count": 6,
   "id": "b01f7e41",
   "metadata": {},
   "outputs": [
    {
     "name": "stdout",
     "output_type": "stream",
     "text": [
      "Output of clear() method : {}\n",
      "Output of copy() method : {1: 'A', 2: 'B', 3: 'C', 4: 'D', 5: 'E'}\n",
      "Output of fromKeys() method : {'A': 0, 'B': 0, 'C': 0}\n",
      "Output of get() method : C\n",
      "Output of items() method : dict_items([(1, 'A'), (2, 'B'), (3, 'C'), (4, 'D'), (5, 'E')])\n",
      "Output of keys() method : {1: 'A', 2: 'B', 3: 'C', 4: 'D', 5: 'E'}\n",
      "Output of pop() method : {1: 'A', 2: 'B', 3: 'C', 4: 'D'}\n",
      "Output of popItem() method : {1: 'A', 2: 'B', 3: 'C'}\n",
      "Output of updates() method : {1: 'A', 2: 'B', 3: 'C', 5: 'E'}\n",
      "Output of values() method : dict_values(['A', 'B', 'C', 'E'])\n"
     ]
    }
   ],
   "source": [
    "# 1) B) Dictionary Methods.\n",
    "dict1={1:'A',2:'B',3:'C',4:'D',5:'E'}\n",
    "dict2={1:'A',2:'B',3:'C',4:'D'}\n",
    "\n",
    "dict2.clear()  # clear method\n",
    "print(\"Output of clear() method :\",dict2)\n",
    "\n",
    "C=dict1.copy()  # copy method\n",
    "print(\"Output of copy() method :\",C)\n",
    "\n",
    "X=('A','B','C')\n",
    "y=(0)\n",
    "FK=dict.fromkeys(X,y)  # fromKeys method\n",
    "print(\"Output of fromKeys() method :\",FK)\n",
    "\n",
    "G=dict1.get(3)  # get method\n",
    "print(\"Output of get() method :\",G)\n",
    "\n",
    "I=dict1.items()  # items method\n",
    "print(\"Output of items() method :\",I)\n",
    "\n",
    "K=dict1.keys()  # keys method\n",
    "print(\"Output of keys() method :\",dict1)\n",
    "\n",
    "dict1.pop(5)  # pop method\n",
    "print(\"Output of pop() method :\",dict1)\n",
    "\n",
    "dict1.popitem()  # popItem method\n",
    "print(\"Output of popItem() method :\",dict1)\n",
    "\n",
    "dict1.update({5:'E'})  # updates method\n",
    "print(\"Output of updates() method :\",dict1)\n",
    "\n",
    "V=dict1.values()  # values method\n",
    "print(\"Output of values() method :\",V)"
   ]
  },
  {
   "cell_type": "code",
   "execution_count": 11,
   "id": "ab47c4cc",
   "metadata": {},
   "outputs": [
    {
     "name": "stdout",
     "output_type": "stream",
     "text": [
      "Output of Add Items Method : (1, 2, 3, 4, 5, 6, 7)\n",
      "Output of len() Method : 7\n",
      "Yes, 2 is in tup1\n",
      "Output of Access Items Mathod : 1   2\n"
     ]
    }
   ],
   "source": [
    "# 1) C) Tuples Methods.\n",
    "tup1 = (1,2,3,4,5,6)\n",
    "\n",
    "# Method for Add Items in tuple\n",
    "y = list(tup1)\n",
    "y.append(7)\n",
    "tup1 = tuple(y)\n",
    "print(\"Output of Add Items Method :\",tup1)\n",
    "\n",
    "# Method of len() in tuple\n",
    "print(\"Output of len() Method :\",len(tup1))\n",
    "\n",
    "# Method for check for item in tuple\n",
    "if 2 in tup1:\n",
    "    print(\"Yes, 2 is in tup1.\")\n",
    "else:\n",
    "    print(\"No 2 is not in tup1.\")\n",
    "\n",
    "# Method for Access items in tuple\n",
    "print(\"Output of Access Items Mathod :\",tup1[0],\" \",tup1[1])"
   ]
  },
  {
   "cell_type": "code",
   "execution_count": 14,
   "id": "f49d6933",
   "metadata": {},
   "outputs": [
    {
     "name": "stdout",
     "output_type": "stream",
     "text": [
      "Enter Number:10\n",
      "Enter Number:10\n",
      "Addition of the given numbers: 20\n"
     ]
    }
   ],
   "source": [
    "# 2) A) Write a python program to add two numbers.\n",
    "A=int(input(\"Enter Number:\"))\n",
    "B=int(input(\"Enter Number:\"))\n",
    "X=A+B\n",
    "print(\"Addition of the given numbers:\",X)"
   ]
  },
  {
   "cell_type": "code",
   "execution_count": 1,
   "id": "ac9b4978",
   "metadata": {},
   "outputs": [
    {
     "name": "stdout",
     "output_type": "stream",
     "text": [
      "Enter Number:-11\n",
      "-11  is Negative Number.\n"
     ]
    }
   ],
   "source": [
    "# 2) B) Write a python program to print a number is positive/negative using if-else.\n",
    "A=int(input(\"Enter Number:\"))\n",
    "if A>0:\n",
    "    print(A,\" is Positive Number.\")\n",
    "elif A<0:\n",
    "    print(A,\" is Negative Number.\")\n",
    "else:\n",
    "    print(A,\" is Zero\")"
   ]
  },
  {
   "cell_type": "code",
   "execution_count": 3,
   "id": "72c245d6",
   "metadata": {},
   "outputs": [
    {
     "name": "stdout",
     "output_type": "stream",
     "text": [
      "Enter First Number:10\n",
      "Enter Second Number:20\n",
      "Enter Third Number:30\n",
      "30  is Greatest Number.\n"
     ]
    }
   ],
   "source": [
    "# 2) C) Write a python program to find largest number among three numbers.\n",
    "A=int(input(\"Enter First Number:\"))\n",
    "B=int(input(\"Enter Second Number:\"))\n",
    "C=int(input(\"Enter Third Number:\"))\n",
    "if A>B and A>C:\n",
    "    print(A,\" is Greatest Number.\")\n",
    "elif A>B and A<C:\n",
    "    print(C,\" is Greatest Number.\")\n",
    "elif A<B and B>C:\n",
    "    print(B,\" is Greatest Number.\")\n",
    "else:\n",
    "    print(C,\" is Greatest Number.\")"
   ]
  },
  {
   "cell_type": "code",
   "execution_count": 30,
   "id": "4ef82fff",
   "metadata": {},
   "outputs": [
    {
     "name": "stdout",
     "output_type": "stream",
     "text": [
      "Ascended Sequence : [1, 2, 3, 4, 5, 6, 7]\n",
      "Descended Sequence : [7, 6, 5, 4, 3, 2, 1]\n"
     ]
    }
   ],
   "source": [
    "# 2) D) Write a python Program to arrange the sequencing in ascending & descending order.\n",
    "list1=[1,2,3,5,4,7,6]\n",
    "list1.sort()\n",
    "print(\"Ascended Sequence :\",list1)\n",
    "list1.reverse()\n",
    "print(\"Descended Sequence :\",list1)"
   ]
  },
  {
   "cell_type": "code",
   "execution_count": 6,
   "id": "eb30b817",
   "metadata": {},
   "outputs": [
    {
     "name": "stdout",
     "output_type": "stream",
     "text": [
      "Enter a number:12321\n",
      "Given number is palindrome!\n"
     ]
    }
   ],
   "source": [
    "# 2) E) Write a python program to check whether the given number is palindrome or not.\n",
    "num=int(input(\"Enter a number:\"))\n",
    "\n",
    "temp=num\n",
    "\n",
    "rev=0\n",
    "\n",
    "while(num>0):\n",
    "    dig=num%10\n",
    "    rev=rev*10+dig\n",
    "    num=num//10\n",
    "\n",
    "if(temp==rev):\n",
    "    print(\"Given number is palindrome!\")\n",
    "else:\n",
    "    print(\"Given number Not a palindrome!\")"
   ]
  },
  {
   "cell_type": "code",
   "execution_count": 1,
   "id": "bb25fa67",
   "metadata": {},
   "outputs": [
    {
     "name": "stdout",
     "output_type": "stream",
     "text": [
      "Enter number of elements you want in fibonacci series :15\n",
      "The Fibonacci Series:\n",
      "0 1 1 2 3 5 8 13 21 34 55 89 144 233 377 "
     ]
    }
   ],
   "source": [
    "# 2) F) Write a python program to print Fibonacci series.\n",
    "n = int(input (\"Enter number of elements you want in fibonacci series :\"))\n",
    "a = 0\n",
    "b = 1\n",
    "print(\"The Fibonacci Series:\")\n",
    "for i in range(0,n):\n",
    "    print(a, end = \" \")\n",
    "    c = a+b\n",
    "    a = b\n",
    "    b = c"
   ]
  },
  {
   "cell_type": "code",
   "execution_count": 2,
   "id": "b7f9ed02",
   "metadata": {},
   "outputs": [
    {
     "name": "stdout",
     "output_type": "stream",
     "text": [
      "Enter radius of circle :5\n",
      "Area of Circle is: 78.57142857142857\n"
     ]
    }
   ],
   "source": [
    "# 2) G) Write a python program to find area of circle.\n",
    "R= int(input (\"Enter radius of circle :\"))\n",
    "pi=22/7\n",
    "A=(pi)*(R**2)\n",
    "print(\"Area of Circle is:\",A)"
   ]
  },
  {
   "cell_type": "code",
   "execution_count": 36,
   "id": "a8ed0e12",
   "metadata": {},
   "outputs": [
    {
     "name": "stdout",
     "output_type": "stream",
     "text": [
      "Enter radius of cylinder :2\n",
      "Enter height of cylinder :2\n",
      "Area of Cylinder is: 50.285714285714285\n"
     ]
    }
   ],
   "source": [
    "# 2) H) Write a python program to find surface area of cylinder.\n",
    "R= int(input (\"Enter radius of cylinder :\"))\n",
    "H= int(input (\"Enter height of cylinder :\"))\n",
    "pi=22/7\n",
    "A=2*(pi)*R*(H+R)\n",
    "print(\"Area of Cylinder is:\",A)"
   ]
  },
  {
   "cell_type": "code",
   "execution_count": 43,
   "id": "f0ea2289",
   "metadata": {},
   "outputs": [
    {
     "name": "stdout",
     "output_type": "stream",
     "text": [
      "<class 'int'>\n",
      "<class 'complex'>\n",
      "<class 'float'>\n",
      "<class 'dict'>\n",
      "<class 'bool'>\n",
      "<class 'set'>\n",
      "<class 'str'>\n",
      "<class 'list'>\n",
      "<class 'tuple'>\n"
     ]
    }
   ],
   "source": [
    "# 3) A) Write a program to demonstrate different number datatypes in python.\n",
    "A=10\n",
    "B=1+2j\n",
    "C=1.2300\n",
    "D={1:'A',2:'B',3:'C',4:'D'}\n",
    "F={\"Arshil\",\"Vahora\",\"Nadiad\"}\n",
    "G=\"MahammadArshil Vahora\"\n",
    "H=[1,2,3,4,5,6]\n",
    "I=('a','b','c','d')\n",
    "print(type(A))\n",
    "print(type(B))\n",
    "print(type(C))\n",
    "print(type(D))\n",
    "print(type(True))\n",
    "print(type(F))\n",
    "print(type(G))\n",
    "print(type(H))\n",
    "print(type(I))"
   ]
  },
  {
   "cell_type": "code",
   "execution_count": 3,
   "id": "4c851cdb",
   "metadata": {},
   "outputs": [
    {
     "name": "stdout",
     "output_type": "stream",
     "text": [
      "Enter First Number :10\n",
      "Enter Second Number :10\n",
      "Addition of two numbers: 20\n",
      "Subtraction of two numbers: 0\n",
      "Multiplication of two numbers: 100\n",
      "Division of two numbers: 1.0\n",
      "Reminder of two numbers: 0\n",
      "Exponent of two numbers: 10000000000\n",
      "Floor division of two numbers: 1\n"
     ]
    }
   ],
   "source": [
    "# 3) B) Write a program to perform different arithematic operations on numbers in python.\n",
    "a= int(input (\"Enter First Number :\"))\n",
    "b= int(input (\"Enter Second Number :\"))\n",
    "\n",
    "print('Addition of two numbers:',a+b)   # Addition operator\n",
    "\n",
    "print('Subtraction of two numbers:',a-b)  # Subtraction operator\n",
    "\n",
    "print('Multiplication of two numbers:',a*b)  # Multiplication operator\n",
    "\n",
    "print('Division of two numbers:',a/b)  # Division operator\n",
    "\n",
    "print('Reminder of two numbers:',a%b)  # Reminder operator\n",
    "\n",
    "print('Exponent of two numbers:',a**b)  # Exponent operator\n",
    "\n",
    "print('Floor division of two numbers:',a//b)  # Floor division operator"
   ]
  },
  {
   "cell_type": "code",
   "execution_count": 52,
   "id": "286142b2",
   "metadata": {},
   "outputs": [
    {
     "name": "stdout",
     "output_type": "stream",
     "text": [
      "Concatenation of string A & B is : Hello World!\n",
      "Whole String: Hello World!\n",
      "String from index 1 to 3 : ell\n",
      "String from index 3 to end : lo World!\n",
      "String from start to index 4 : Hello\n"
     ]
    }
   ],
   "source": [
    "# 3) C) Write a program to create, concatenate and print a string and accessing substring from a given string.\n",
    "A=\"Hello \"\n",
    "B='World!'\n",
    "C=A+B\n",
    "print(\"Concatenation of string A & B is :\",C)  # Concatenation of string's\n",
    "print(\"Whole String:\",C[:])\n",
    "print(\"String from index 1 to 3 :\",C[1:4])\n",
    "print(\"String from index 3 to end :\",C[3:])\n",
    "print(\"String from start to index 4 :\",C[:5])"
   ]
  },
  {
   "cell_type": "code",
   "execution_count": 4,
   "id": "2c79b404",
   "metadata": {},
   "outputs": [
    {
     "name": "stdout",
     "output_type": "stream",
     "text": [
      "\n",
      "*\n",
      "**\n",
      "***\n",
      "****\n",
      "*****\n",
      "****\n",
      "***\n",
      "**\n",
      "*\n"
     ]
    }
   ],
   "source": [
    "# 3) D)Write a python program to construct the following pattern using nested for loop: \n",
    "#* \n",
    "#** \n",
    "#*** \n",
    "#**** \n",
    "#***** \n",
    "#***** \n",
    "#**** \n",
    "#*** \n",
    "#** \n",
    "#*\n",
    "rows=5\n",
    "for i in range(rows):\n",
    "    for j in range(i):\n",
    "        print(\"*\",end=\"\")\n",
    "    print(\"\")\n",
    "for i in range(rows,0,-1):\n",
    "    for j in range(i):\n",
    "        print(\"*\",end=\"\")\n",
    "    print(\"\")"
   ]
  },
  {
   "cell_type": "code",
   "execution_count": 4,
   "id": "9c9bbc8f",
   "metadata": {},
   "outputs": [
    {
     "name": "stdout",
     "output_type": "stream",
     "text": [
      "Enter Fisrt Number: 15\n",
      "Enter second Number: 12\n",
      "Select one of the followint Option:\n",
      "1. PERFORM ADDITITON\n",
      "2. PERFORM SUBTRACTION\n",
      "3. PERFORM MULTIPICATION\n",
      "4. PERFORM DIVISION\n",
      "Enter Option Number: 3\n",
      "Your Answer for Multiplication: 15 * 12  =  180\n"
     ]
    }
   ],
   "source": [
    "# 4) A) Write a program to create a menu with the following options \n",
    "#1. TO PERFORM ADDITITON \n",
    "#2. TO PERFORM SUBTRACTION \n",
    "#3. TO PERFORM MULTIPICATION\n",
    "#4. TO PERFORM DIVISION \n",
    "#Accepts users input and perform the operation accordingly. Use functions with arguments.\n",
    "N1=int(input(\"Enter Fisrt Number: \"))\n",
    "N2=int(input(\"Enter second Number: \"))\n",
    "\n",
    "print(\"Select one of the followint Option:\")\n",
    "print(\"1. PERFORM ADDITITON\")\n",
    "print(\"2. PERFORM SUBTRACTION\")\n",
    "print(\"3. PERFORM MULTIPICATION\")\n",
    "print(\"4. PERFORM DIVISION\")\n",
    "\n",
    "OP=int(input(\"Enter Option Number: \"))\n",
    "\n",
    "if OP==1:\n",
    "    print(\"Your Answer for Addition:\",N1,\"+\",N2,\" = \",N1+N2)\n",
    "if OP==2:\n",
    "    print(\"Your Answer for Substraction:\",N1,\"-\",N2,\" = \",N1-N2)\n",
    "if OP==3:\n",
    "    print(\"Your Answer for Multiplication:\",N1,\"*\",N2,\" = \",N1*N2)\n",
    "if OP==4:\n",
    "    print(\"Your Answer for Division:\",N1,\"/\",N2,\" = \",N1/N2)"
   ]
  },
  {
   "cell_type": "code",
   "execution_count": 5,
   "id": "951e67fa",
   "metadata": {},
   "outputs": [
    {
     "name": "stdout",
     "output_type": "stream",
     "text": [
      "Enter any String :MOM\n",
      "given string is palindrome\n"
     ]
    }
   ],
   "source": [
    "# 4) B) Write a python program to check whether the given string is palindrome or not.\n",
    "A=input(\"Enter any String :\")\n",
    "R=A[::-1]\n",
    "if A==R:\n",
    "    print(\"given string is palindrome\")\n",
    "else:\n",
    "    print(\"given string is not palindrome\")"
   ]
  },
  {
   "cell_type": "code",
   "execution_count": 7,
   "id": "873786a6",
   "metadata": {},
   "outputs": [
    {
     "name": "stdout",
     "output_type": "stream",
     "text": [
      "Enter a Number:5\n",
      "Factorial of given number 5 is 120\n"
     ]
    }
   ],
   "source": [
    "# 4) C) Write a python program to find factorial of a given number using functions.\n",
    "def factorial(n):\n",
    "    if n==0 or n==1:\n",
    "        return 1\n",
    "    else:\n",
    "        return n*factorial(n-1)\n",
    "N=int(input(\"Enter a Number:\"))\n",
    "Ans=factorial(N)\n",
    "print(\"Factorial of given number\",N,\"is\",Ans)"
   ]
  },
  {
   "cell_type": "code",
   "execution_count": 8,
   "id": "f8b3dd9a",
   "metadata": {},
   "outputs": [
    {
     "name": "stdout",
     "output_type": "stream",
     "text": [
      "List1= [1, 2, 3, 4, 5, 6]\n",
      "List2= [1, 2, 3, 4, 5, 6]\n",
      "List3= [1, 2, 3, 4, 5, 6, 7, 8]\n",
      "List1 & List2 are same.\n",
      "List1 & List3 are not same.\n",
      "List2 & List3 are not same.\n"
     ]
    }
   ],
   "source": [
    "# 4) D) Write a Python function that takes two lists and returns True if they are equal otherwise false.\n",
    "List1=[1,2,3,4,5,6]\n",
    "List2=[1,2,3,4,5,6]\n",
    "List3=[1,2,3,4,5,6,7,8]\n",
    "print(\"List1=\",List1)\n",
    "print(\"List2=\",List2)\n",
    "print(\"List3=\",List3)\n",
    "if List1==List2:\n",
    "    print(\"List1 & List2 are same.\")\n",
    "else:\n",
    "    print(\"List1 & List2 are not same.\")\n",
    "if List1==List3:\n",
    "    print(\"List1 & List3 are same.\")\n",
    "else:\n",
    "    print(\"List1 & List3 are not same.\")\n",
    "if List2==List3:\n",
    "    print(\"List2 & List3 are same.\")\n",
    "else:\n",
    "    print(\"List2 & List3 are not same.\")"
   ]
  },
  {
   "cell_type": "code",
   "execution_count": 9,
   "id": "621001aa",
   "metadata": {},
   "outputs": [
    {
     "name": "stdout",
     "output_type": "stream",
     "text": [
      "Enter Year:2024\n",
      "Enter Month:3\n",
      "     March 2024\n",
      "Mo Tu We Th Fr Sa Su\n",
      "             1  2  3\n",
      " 4  5  6  7  8  9 10\n",
      "11 12 13 14 15 16 17\n",
      "18 19 20 21 22 23 24\n",
      "25 26 27 28 29 30 31\n",
      "\n"
     ]
    }
   ],
   "source": [
    "# 5) A) Write a python program to display a particular month of a year using calendar module.\n",
    "import calendar\n",
    "yy=int(input(\"Enter Year:\"))\n",
    "mm=int(input(\"Enter Month:\"))\n",
    "print(calendar.month(yy,mm))"
   ]
  },
  {
   "cell_type": "code",
   "execution_count": 17,
   "id": "1f2dee6a",
   "metadata": {},
   "outputs": [
    {
     "name": "stdout",
     "output_type": "stream",
     "text": [
      "Enter Year:2024\n",
      "                                  2024\n",
      "\n",
      "      January                   February                   March\n",
      "Mo Tu We Th Fr Sa Su      Mo Tu We Th Fr Sa Su      Mo Tu We Th Fr Sa Su\n",
      " 1  2  3  4  5  6  7                1  2  3  4                   1  2  3\n",
      " 8  9 10 11 12 13 14       5  6  7  8  9 10 11       4  5  6  7  8  9 10\n",
      "15 16 17 18 19 20 21      12 13 14 15 16 17 18      11 12 13 14 15 16 17\n",
      "22 23 24 25 26 27 28      19 20 21 22 23 24 25      18 19 20 21 22 23 24\n",
      "29 30 31                  26 27 28 29               25 26 27 28 29 30 31\n",
      "\n",
      "       April                      May                       June\n",
      "Mo Tu We Th Fr Sa Su      Mo Tu We Th Fr Sa Su      Mo Tu We Th Fr Sa Su\n",
      " 1  2  3  4  5  6  7             1  2  3  4  5                      1  2\n",
      " 8  9 10 11 12 13 14       6  7  8  9 10 11 12       3  4  5  6  7  8  9\n",
      "15 16 17 18 19 20 21      13 14 15 16 17 18 19      10 11 12 13 14 15 16\n",
      "22 23 24 25 26 27 28      20 21 22 23 24 25 26      17 18 19 20 21 22 23\n",
      "29 30                     27 28 29 30 31            24 25 26 27 28 29 30\n",
      "\n",
      "        July                     August                  September\n",
      "Mo Tu We Th Fr Sa Su      Mo Tu We Th Fr Sa Su      Mo Tu We Th Fr Sa Su\n",
      " 1  2  3  4  5  6  7                1  2  3  4                         1\n",
      " 8  9 10 11 12 13 14       5  6  7  8  9 10 11       2  3  4  5  6  7  8\n",
      "15 16 17 18 19 20 21      12 13 14 15 16 17 18       9 10 11 12 13 14 15\n",
      "22 23 24 25 26 27 28      19 20 21 22 23 24 25      16 17 18 19 20 21 22\n",
      "29 30 31                  26 27 28 29 30 31         23 24 25 26 27 28 29\n",
      "                                                    30\n",
      "\n",
      "      October                   November                  December\n",
      "Mo Tu We Th Fr Sa Su      Mo Tu We Th Fr Sa Su      Mo Tu We Th Fr Sa Su\n",
      "    1  2  3  4  5  6                   1  2  3                         1\n",
      " 7  8  9 10 11 12 13       4  5  6  7  8  9 10       2  3  4  5  6  7  8\n",
      "14 15 16 17 18 19 20      11 12 13 14 15 16 17       9 10 11 12 13 14 15\n",
      "21 22 23 24 25 26 27      18 19 20 21 22 23 24      16 17 18 19 20 21 22\n",
      "28 29 30 31               25 26 27 28 29 30         23 24 25 26 27 28 29\n",
      "                                                    30 31\n",
      "\n"
     ]
    }
   ],
   "source": [
    "# 5) B) Write a python program to printall the month of given year.\n",
    "import calendar\n",
    "yy=int(input(\"Enter Year:\"))\n",
    "print(calendar.calendar(yy))"
   ]
  },
  {
   "cell_type": "code",
   "execution_count": 18,
   "id": "f396c342",
   "metadata": {},
   "outputs": [
    {
     "name": "stdout",
     "output_type": "stream",
     "text": [
      "Type of Array is: <class 'numpy.ndarray'>\n",
      "The dimension of Array is : 2\n",
      "The shape of an Array is: (2, 4)\n",
      "The size of an Array is: 8\n",
      "Data Type of all Array element is: int32\n"
     ]
    }
   ],
   "source": [
    "# 8) Usage of Numpy.\n",
    "#A) Create an array and find:\n",
    "import numpy as np\n",
    "A1=np.array([[1,2,3,4],[5,6,7,8]])\n",
    "#1) Type \n",
    "print(\"Type of Array is:\",type(A1))\n",
    "#2) Dimesions\n",
    "print(\"The dimension of Array is :\",A1.ndim)\n",
    "#3) Shape\n",
    "print(\"The shape of an Array is:\",A1.shape)\n",
    "#4) Size\n",
    "print(\"The size of an Array is:\",np.size(A1))\n",
    "#5) Datatype\n",
    "print(\"Data Type of all Array element is:\",A1.dtype)"
   ]
  },
  {
   "cell_type": "code",
   "execution_count": 19,
   "id": "03424ec4",
   "metadata": {},
   "outputs": [
    {
     "name": "stdout",
     "output_type": "stream",
     "text": [
      "[[0 0 0 0]\n",
      " [0 0 0 0]\n",
      " [0 0 0 0]]\n"
     ]
    }
   ],
   "source": [
    "# 8) Usage of Numpy.\n",
    "#B) An array of 3x4 with all zeros.\n",
    "import numpy as np\n",
    "print(np.zeros((3,4),int))"
   ]
  },
  {
   "cell_type": "code",
   "execution_count": 20,
   "id": "5d7bc9ea",
   "metadata": {},
   "outputs": [
    {
     "name": "stdout",
     "output_type": "stream",
     "text": [
      "[[       0        0 49626192]\n",
      " [     480 49626592      480]\n",
      " [49624992      480  7143521]]\n"
     ]
    }
   ],
   "source": [
    "# 8) Usage of Numpy.\n",
    "#C) An array of random values.\n",
    "import numpy as np\n",
    "print(np.empty((3,3),int))"
   ]
  },
  {
   "cell_type": "code",
   "execution_count": 10,
   "id": "e045aa02",
   "metadata": {},
   "outputs": [
    {
     "name": "stdout",
     "output_type": "stream",
     "text": [
      "Original Array: [[ 1  2  3  4]\n",
      " [ 5  6  7  8]\n",
      " [ 9 10 11 12]]\n",
      "Reshaped array from 3x4 to 2x2x3 is : [[[ 1  2  3]\n",
      "  [ 4  5  6]]\n",
      "\n",
      " [[ 7  8  9]\n",
      "  [10 11 12]]]\n"
     ]
    }
   ],
   "source": [
    "# 8) Usage of Numpy.\n",
    "#D) Reshape an array of 3x4 to 2x2x3.\n",
    "import numpy as np\n",
    "A1=np.array([[1,2,3,4],[5,6,7,8],[9,10,11,12]])\n",
    "print(\"Original Array:\",A1)\n",
    "print(\"Reshaped array from 3x4 to 2x2x3 is :\",A1.reshape(2,2,3))"
   ]
  },
  {
   "cell_type": "code",
   "execution_count": 1,
   "id": "8254449c",
   "metadata": {},
   "outputs": [
    {
     "name": "stdout",
     "output_type": "stream",
     "text": [
      "2.0.3\n"
     ]
    }
   ],
   "source": [
    "# 9) (A)\n",
    "import pandas as pd\n",
    "print(pd.__version__)"
   ]
  },
  {
   "cell_type": "code",
   "execution_count": 2,
   "id": "fe931100",
   "metadata": {},
   "outputs": [
    {
     "name": "stdout",
     "output_type": "stream",
     "text": [
      "0     2\n",
      "1     4\n",
      "2     6\n",
      "3     8\n",
      "4    10\n",
      "dtype: int64\n"
     ]
    }
   ],
   "source": [
    "# 9) (B)\n",
    "import pandas as pd\n",
    "Array1=pd.Series([2,4,6,8,10])\n",
    "print(Array1)"
   ]
  },
  {
   "cell_type": "code",
   "execution_count": 3,
   "id": "140931e6",
   "metadata": {},
   "outputs": [
    {
     "name": "stdout",
     "output_type": "stream",
     "text": [
      "[2, 4, 6, 8, 10]\n",
      "<class 'pandas.core.series.Series'>\n"
     ]
    }
   ],
   "source": [
    "# 9) (C)\n",
    "import pandas as pd\n",
    "Array=pd.Series([2,4,6,8,10])\n",
    "print(Array.tolist())\n",
    "print(type(Array))"
   ]
  },
  {
   "cell_type": "code",
   "execution_count": 4,
   "id": "3994c44c",
   "metadata": {},
   "outputs": [
    {
     "name": "stdout",
     "output_type": "stream",
     "text": [
      "  Roll No.             Name\n",
      "0       01           Bhavin\n",
      "1       02           Dhruvi\n",
      "2       03           Jaydip\n",
      "3       04           Khushi\n",
      "4       05  Mahammad Arshil\n",
      "5       06            Margi\n",
      "6       07           Yuvraj\n"
     ]
    }
   ],
   "source": [
    "# 9) (D)\n",
    "import pandas as pd\n",
    "Data={\"Roll No.\":[\"01\",\"02\",\"03\",\"04\",\"05\",\"06\",\"07\"],\"Name\":[\"Bhavin\",\"Dhruvi\",\"Jaydip\",\"Khushi\",\"Mahammad Arshil\",\"Margi\",\"Yuvraj\"]}\n",
    "df=pd.DataFrame(Data)\n",
    "print(df)"
   ]
  },
  {
   "cell_type": "code",
   "execution_count": 6,
   "id": "7ac13cd1",
   "metadata": {},
   "outputs": [
    {
     "name": "stdout",
     "output_type": "stream",
     "text": [
      "1.11.1\n"
     ]
    }
   ],
   "source": [
    "# 10) (A)\n",
    "import scipy as sc \n",
    "print(sc.__version__)\n"
   ]
  },
  {
   "cell_type": "code",
   "execution_count": 8,
   "id": "8c3e0ecc",
   "metadata": {},
   "outputs": [
    {
     "name": "stdout",
     "output_type": "stream",
     "text": [
      "3.141592653589793\n"
     ]
    }
   ],
   "source": [
    "# 10) (B)\n",
    "import scipy as sc\n",
    "print(sc.pi)"
   ]
  },
  {
   "cell_type": "code",
   "execution_count": 9,
   "id": "3745240b",
   "metadata": {},
   "outputs": [
    {
     "name": "stdout",
     "output_type": "stream",
     "text": [
      "Centimeter: 0.01\n",
      "Kilometer: 1000.0\n",
      "Mile: 1609.3439999999998\n",
      "Inch: 0.0254\n",
      "Foot: 0.30479999999999996\n",
      "Mil: 2.5399999999999997e-05\n",
      "Light Year: 9460730472580800.0\n"
     ]
    }
   ],
   "source": [
    "# 10) (C)\n",
    "import scipy.constants as sc \n",
    "print(\"Centimeter:\",sc.centi)\n",
    "print(\"Kilometer:\",sc.kilo) \n",
    "print(\"Mile:\",sc.mile) \n",
    "print(\"Inch:\",sc.inch) \n",
    "print(\"Foot:\",sc.foot) \n",
    "print(\"Mil:\",sc.mil) \n",
    "print(\"Light Year:\",sc.light_year)"
   ]
  },
  {
   "cell_type": "code",
   "execution_count": 10,
   "id": "171a09c5",
   "metadata": {},
   "outputs": [
    {
     "name": "stdout",
     "output_type": "stream",
     "text": [
      "Kilometer/h: 0.2777777777777778\n",
      "Mile/h: 0.44703999999999994\n",
      "Speed of sound: 340.5\n"
     ]
    }
   ],
   "source": [
    "# 10) (D)\n",
    "import scipy.constants as sc\n",
    "print(\"Kilometer/h:\",sc.kmh)\n",
    "print(\"Mile/h:\",sc.mph)\n",
    "print(\"Speed of sound:\",sc.speed_of_sound)"
   ]
  },
  {
   "cell_type": "code",
   "execution_count": 4,
   "id": "e32fd840",
   "metadata": {},
   "outputs": [
    {
     "data": {
      "image/png": "[encoded data removed]",
      "text/plain": [
       "<Figure size 640x480 with 1 Axes>"
      ]
     },
     "metadata": {},
     "output_type": "display_data"
    }
   ],
   "source": [
    "# 7) (A)\n",
    "import matplotlib.pyplot as plt\n",
    "import numpy as np\n",
    "x=np.array([1,2])\n",
    "y=np.array([1,2])\n",
    "\n",
    "plt.plot(x,y)\n",
    "plt.show()"
   ]
  },
  {
   "cell_type": "code",
   "execution_count": 13,
   "id": "5313a374",
   "metadata": {},
   "outputs": [
    {
     "data": {
      "image/png": "[encoded data removed]",
      "text/plain": [
       "<Figure size 840x360 with 1 Axes>"
      ]
     },
     "metadata": {},
     "output_type": "display_data"
    }
   ],
   "source": [
    "# 7) (B)\n",
    "import matplotlib.pyplot as plt\n",
    "import numpy as np\n",
    "x=[\"0 to 1\",\"1 to 2\",\"2 to 3\",\"3 to 4\",\"4 to 5\",\"5 to 6\",\"6 to 7\",\"7 to 8\",\"8 to 9\",\"Above 9\"]\n",
    "SPI=[1,2,3,4,5,6,7,8,9,10]\n",
    "CPI=[11,12,13,14,15,16,17,18,19,20]\n",
    "x_axis=np.arange(len(x))\n",
    "plt.figure(figsize=(7,3),dpi=120)\n",
    "plt.bar(x_axis-0.2,SPI,0.4,label='SPI')\n",
    "plt.bar(x_axis+0.2,CPI,0.4,label='CPI')\n",
    "#plt.xticks(x_axis,x)\n",
    "plt.xlabel(\"Out of Grade\")\n",
    "plt.ylabel(\"Grade Range\")\n",
    "plt.title(\"SPI & CPI Wise Analysis\")\n",
    "plt.legend()\n",
    "plt.show()"
   ]
  },
  {
   "cell_type": "code",
   "execution_count": 3,
   "id": "1a818496",
   "metadata": {},
   "outputs": [
    {
     "data": {
      "image/png": "[encoded data removed]",
      "text/plain": [
       "<Figure size 640x480 with 1 Axes>"
      ]
     },
     "metadata": {},
     "output_type": "display_data"
    }
   ],
   "source": [
    "# 7) (C)\n",
    "import matplotlib.pyplot as plt\n",
    "import numpy as np\n",
    "x=[\"0 to 1\",\"1 to 2\",\"2 to 3\",\"3 to 4\", \"4 to 5\", \"5 to 6\", \"6 to 7\", \"7 to 8\", \"8 to 9\", \n",
    "\"Above 9\"]\n",
    "y=[1,2,3,4,5,6,7,8,9,10]\n",
    "z=[11,12,13,14,15,16,17,18,19,20]\n",
    "X_axis = np.arange(len(x))\n",
    "width=0.25\n",
    "plt.bar(X_axis, y, 0.25, color = 'r', label=\"SPI\")\n",
    "plt.bar(X_axis - width, z, 0.25, color='b', label=\"CPI\")\n",
    "plt.legend()\n",
    "plt.xlabel('Grade Range')\n",
    "plt.ylabel('SPI')\n",
    "plt.show()"
   ]
  },
  {
   "cell_type": "code",
   "execution_count": 8,
   "id": "fe1edde8",
   "metadata": {},
   "outputs": [
    {
     "data": {
      "image/png": "[encoded data removed]",
      "text/plain": [
       "<Figure size 640x480 with 1 Axes>"
      ]
     },
     "metadata": {},
     "output_type": "display_data"
    }
   ],
   "source": [
    "# 7) (D)\n",
    "import matplotlib.pyplot as plt\n",
    "import numpy as np\n",
    "Subjects=[\"JAVA\",\"ASP.NET\",\"PYTHON\",\"R\",\"CLOUD\",\"SE\",\"CNS\"]\n",
    "Stud_1=[20,30,40,50,17,50,35]\n",
    "Stud_2=[22,33,44,50,33,44,45]\n",
    "Stud_3=[10,20,30,40,50,34,39]\n",
    "Stud_4=[29,28,50,35,45,40,48]\n",
    "xaxis=np.arange(len(Subjects))*3\n",
    "width=0.25\n",
    "plt.scatter(xaxis-width*0,Stud_1,5,color=\"r\",label=\"Stud_1\")\n",
    "plt.scatter(xaxis-width*1,Stud_2,5,color=\"b\",label=\"Stud_2\")\n",
    "plt.scatter(xaxis-width*2,Stud_3,5,color=\"g\",label=\"Stud_3\")\n",
    "plt.scatter(xaxis-width*3,Stud_4,5,color=\"c\",label=\"Stud_4\")\n",
    "plt.xticks(xaxis,Subjects)\n",
    "plt.xlabel(\"SUBJECTS\")\n",
    "plt.ylabel(\"NUMBER OF STUDENTS\")\n",
    "plt.legend()\n",
    "plt.show()"
   ]
  },
  {
   "cell_type": "code",
   "execution_count": 9,
   "id": "9d09e173",
   "metadata": {},
   "outputs": [
    {
     "data": {
      "image/png": "[encoded data removed]",
      "text/plain": [
       "<Figure size 640x480 with 1 Axes>"
      ]
     },
     "metadata": {},
     "output_type": "display_data"
    }
   ],
   "source": [
    "# 7) (E)\n",
    "import matplotlib.pyplot as plt\n",
    "import numpy as n\n",
    "Subjects=[\"JAVA\",\"ASP.NET\",\"PYTHON\",\"R\",\"CLOUD\",\"SE\",\"CNS\"]\n",
    "Stud_1=[20,17,17,14,13,19,20]\n",
    "Stud_2=[18,20,19,15,21,14,21]\n",
    "Stud_3=[17,18,11,13,15,10,15]\n",
    "Stud_4=[15,16,18,19,20,21,21]\n",
    "xaxis=np.arange(len(Subjects))*3\n",
    "width=0.25\n",
    "plt.scatter(xaxis-width*0,Stud_1,5,color=\"r\",label=\"Stud_1\")\n",
    "plt.scatter(xaxis-width*1,Stud_2,5,color=\"b\",label=\"Stud_2\")\n",
    "plt.scatter(xaxis-width*2,Stud_3,5,color=\"g\",label=\"Stud_3\")\n",
    "plt.scatter(xaxis-width*3,Stud_4,5,color=\"c\",label=\"Stud_4\")\n",
    "plt.xticks(xaxis,Subjects)\n",
    "plt.xticks(rotation=-15)\n",
    "plt.xlabel(\"SUBJECTS(Theory)\")\n",
    "plt.ylabel(\"NUMBER OF STUDENTS\")\n",
    "plt.legend()\n",
    "plt.show()"
   ]
  },
  {
   "cell_type": "code",
   "execution_count": 4,
   "id": "a74dafad",
   "metadata": {},
   "outputs": [
    {
     "data": {
      "image/png": "[encoded data removed]",
      "text/plain": [
       "<Figure size 640x480 with 1 Axes>"
      ]
     },
     "metadata": {},
     "output_type": "display_data"
    }
   ],
   "source": [
    "# 7) (F)\n",
    "import matplotlib.pyplot as plt\n",
    "import numpy as n\n",
    "Subjects=[\"JAVA\",\"ASP.NET\",\"PYTHON\",\"R\",\"CLOUD\",\"SE\",\"CNS\"]\n",
    "Stud_1=[20,22,24,28,29,32,35]\n",
    "Stud_2=[36,32,30,27,26,24,22]\n",
    "Stud_3=[19,22,25,28,31,34,33]\n",
    "Stud_4=[20,25,30,35,40,31,38]\n",
    "xaxis=np.arange(len(Subjects))*3\n",
    "width=0.25\n",
    "plt.bar(xaxis-width*0,Stud_1,0.25,color=\"c\",label=\"Stud_1\")\n",
    "plt.bar(xaxis-width*1,Stud_2,0.25,color=\"g\",label=\"Stud_2\")\n",
    "plt.bar(xaxis-width*2,Stud_3,0.25,color=\"r\",label=\"Stud_3\")\n",
    "plt.bar(xaxis-width*3,Stud_4,0.25,color=\"b\",label=\"Stud_4\")\n",
    "plt.xticks(xaxis,Subjects)\n",
    "plt.xticks(rotation=-15)\n",
    "plt.xlabel(\"SUBJECTS(Practical)\")\n",
    "plt.ylabel(\"NUMBER OF STUDENTS\")\n",
    "plt.legend()\n",
    "plt.show()"
   ]
  },
  {
   "cell_type": "code",
   "execution_count": 6,
   "id": "85ea3c54",
   "metadata": {},
   "outputs": [
    {
     "data": {
      "image/png": "[encoded data removed]",
      "text/plain": [
       "<Figure size 640x480 with 1 Axes>"
      ]
     },
     "metadata": {},
     "output_type": "display_data"
    }
   ],
   "source": [
    "# 7) (G)\n",
    "import matplotlib.pyplot as plt\n",
    "import numpy as n\n",
    "Subjects=[\"JAVA\",\"ASP.NET\",\"PYTHON\",\"R\",\"CLOUD\",\"SE\",\"CNS\"]\n",
    "Stud_1=[20,22,24,28,29,32,35]\n",
    "Stud_2=[36,32,30,27,26,24,22]\n",
    "Stud_3=[19,22,25,28,31,34,33]\n",
    "Stud_4=[20,25,30,35,40,31,38]\n",
    "xaxis=np.arange(len(Subjects))*3\n",
    "width=0.50\n",
    "plt.scatter(xaxis-width*0,Stud_1,5,color=\"c\",label=\"Stud_1\")\n",
    "plt.scatter(xaxis-width*1,Stud_2,5,color=\"g\",label=\"Stud_2\")\n",
    "plt.scatter(xaxis-width*2,Stud_3,5,color=\"r\",label=\"Stud_3\")\n",
    "plt.scatter(xaxis-width*3,Stud_4,5,color=\"b\",label=\"Stud_4\")\n",
    "plt.xticks(xaxis,Subjects)\n",
    "plt.xticks(rotation=-15)\n",
    "plt.xlabel(\"SUBJECTS(Practical)\")\n",
    "plt.ylabel(\"NUMBER OF STUDENTS\")\n",
    "plt.legend()\n",
    "plt.show()"
   ]
  },
  {
   "cell_type": "code",
   "execution_count": 1,
   "id": "f292d45e",
   "metadata": {},
   "outputs": [
    {
     "name": "stdout",
     "output_type": "stream",
     "text": [
      "   Sr No     Name Fav. Fruit  Age\n",
      "0      1    Margi      Apple   21\n",
      "1      2    Jeeya      Mango   12\n",
      "2      3       Om     Banana   10\n",
      "3      4   Niasrg      Apple   24\n",
      "4      5   Bhakti     Cheery   20\n",
      "5      6    Kirti    Lytchee   19\n",
      "6      7    Mansi      Mango   26\n",
      "7      8  Dhrasti      Apple   15\n",
      "8      9      Jay     Cheery    9\n",
      "9     10    Rudra     Banana   14\n"
     ]
    }
   ],
   "source": [
    "# 9)(E) 1)\n",
    "import pandas as pd\n",
    "data=pd.read_csv(\"D:\\Data.csv\")\n",
    "#print(data)\n",
    "print(data.to_string())"
   ]
  },
  {
   "cell_type": "code",
   "execution_count": 2,
   "id": "d3b896a6",
   "metadata": {},
   "outputs": [
    {
     "name": "stdout",
     "output_type": "stream",
     "text": [
      "Head Function's Output:-\n",
      "   Sr No   Name Fav. Fruit  Age\n",
      "0      1  Margi      Apple   21\n",
      "1      2  Jeeya      Mango   12\n",
      "Tail Function's Output:-\n",
      "   Sr No   Name Fav. Fruit  Age\n",
      "8      9    Jay     Cheery    9\n",
      "9     10  Rudra     Banana   14\n"
     ]
    }
   ],
   "source": [
    "# 9)(E) 2)\n",
    "import pandas as pd\n",
    "data=pd.read_csv(\"D:\\Data.csv\")\n",
    "print(\"Head Function's Output:-\")\n",
    "print(data.head(2))\n",
    "print(\"Tail Function's Output:-\")\n",
    "print(data.tail(2))"
   ]
  },
  {
   "cell_type": "code",
   "execution_count": 3,
   "id": "6c01a488",
   "metadata": {},
   "outputs": [
    {
     "name": "stdout",
     "output_type": "stream",
     "text": [
      "   Sr No     Name Fav. Fruit  Age\n",
      "0      1    Margi      Apple   21\n",
      "1      2    Jeeya      Mango   12\n",
      "2      3       Om     Banana   10\n",
      "3      4   Niasrg      Apple   24\n",
      "4      5   Bhakti     Cheery   20\n",
      "5      6    Kirti    Lytchee   19\n",
      "6      7    Mansi      Mango   26\n",
      "7      8  Dhrasti      Apple   15\n",
      "8      9      Jay     Cheery    9\n",
      "9     10    Rudra     Banana   14\n",
      "\n",
      "   Sr No     Name Fav. Fruit  Age\n",
      "0      1    Margi      Apple   21\n",
      "1      2    Jeeya      Mango   12\n",
      "2      3       Om     Banana   10\n",
      "3      4   Niasrg      Apple   24\n",
      "4      5   Bhakti     Cheery   20\n",
      "5      6    Kirti    Lytchee   19\n",
      "6      7    Mansi      Mango   26\n",
      "7      8  Dhrasti      Apple   15\n",
      "8      9      Jay     Cheery    9\n",
      "9     10    Rudra     Banana   14\n",
      "\n",
      "   Sr No     Name Fav. Fruit  Age\n",
      "0      1    Margi      Apple   21\n",
      "1      2    Jeeya      Mango   12\n",
      "2      3       Om     Banana   10\n",
      "3      4   Niasrg      Apple   24\n",
      "4      5   Bhakti     Cheery   20\n",
      "5      6    Kirti    Lytchee   19\n",
      "6      7    Mansi      Mango   26\n",
      "7      8  Dhrasti      Apple   15\n",
      "8      9      Jay     Cheery    9\n",
      "9     10    Rudra     Banana   14\n"
     ]
    }
   ],
   "source": [
    "# 9) (E) 3)\n",
    "import pandas as pd\n",
    "data=pd.read_csv(\"D:\\Data.csv\")\n",
    "# Removing Empty Cells\n",
    "X=data.dropna()\n",
    "print(X.to_string())\n",
    "print()\n",
    "# Replace the Empty Values\n",
    "Y=data.fillna(30)\n",
    "print(Y.to_string())\n",
    "print()\n",
    "# Remove Duplicates\n",
    "Z=data.drop_duplicates()\n",
    "print(Z.to_string())"
   ]
  },
  {
   "cell_type": "code",
   "execution_count": 1,
   "id": "1faede01",
   "metadata": {},
   "outputs": [
    {
     "name": "stdin",
     "output_type": "stream",
     "text": [
      "How many student records you want to store?  1\n",
      "Enter student name: gb\n"
     ]
    },
    {
     "name": "stdout",
     "output_type": "stream",
     "text": [
      "Enter marks of Semester 1\n"
     ]
    },
    {
     "name": "stdin",
     "output_type": "stream",
     "text": [
      "Enter marks of English: 11\n",
      "Enter marks of Maths: 1\n",
      "Enter marks of Science: 11\n"
     ]
    },
    {
     "name": "stdout",
     "output_type": "stream",
     "text": [
      "Enter marks of Semester 2\n"
     ]
    },
    {
     "name": "stdin",
     "output_type": "stream",
     "text": [
      "Enter marks of English: 155\n",
      "Enter marks of Maths: 15\n",
      "Enter marks of Science: 15\n"
     ]
    },
    {
     "name": "stdout",
     "output_type": "stream",
     "text": [
      "Name      S1E    S1M    S1S    S2E    S2M    S2S    E-Avg    M-Avg    S-Avg    TotalPercentage\n",
      "------  -----  -----  -----  -----  -----  -----  -------  -------  -------  -----------------\n",
      "gb         11      1     11    155     15     15       83        8       13            34.6667\n"
     ]
    }
   ],
   "source": [
    "# 6)\n",
    "import pandas as pd\n",
    "from tabulate import tabulate\n",
    "totalStudent=int(input(\"How many student records you want to store? \"))\n",
    "dictStudData=dict()\n",
    "allData=[]\n",
    "for i in range(0,totalStudent):\n",
    "    sName=input(\"Enter student name:\")\n",
    "    print(\"Enter marks of Semester 1\")\n",
    "    sem1Eng=int(input(\"Enter marks of English:\"))\n",
    "    sem1Math=int(input(\"Enter marks of Maths:\"))\n",
    "    sem1Sci=int(input(\"Enter marks of Science:\")) \n",
    "    print(\"Enter marks of Semester 2\")\n",
    "    sem2Eng=int(input(\"Enter marks of English:\"))\n",
    "    sem2Math=int(input(\"Enter marks of Maths:\"))\n",
    "    sem2Sci=int(input(\"Enter marks of Science:\")) \n",
    "    engAvg=(sem1Eng+sem2Eng)/2\n",
    "    mathAvg=(sem1Math+sem2Math)/2\n",
    "    sciAvg=(sem1Sci+sem2Sci)/2\n",
    "    total=(engAvg+mathAvg+sciAvg)/3 \n",
    "    dictStudData={\"Name\":sName,\"S1E\":sem1Eng,\"S1M\":sem1Math,\"S1S\":sem1Sci,\"S2E\":sem2Eng,\"S2M\":sem2Math,\"S2S\":sem2Sci,\"E-Avg\":engAvg,\"M-Avg\":mathAvg,\"S-Avg\":sciAvg,\"TotalPercentage\":total}\n",
    "    allData.append(dictStudData) \n",
    "    i=i+1\n",
    "print(tabulate(allData,headers=\"keys\"))"
   ]
  },
  {
   "cell_type": "code",
   "execution_count": 13,
   "id": "ee1b1651-4848-4853-bc7f-ff2fea409475",
   "metadata": {},
   "outputs": [
    {
     "name": "stdout",
     "output_type": "stream",
     "text": [
      "Collecting folium\n",
      "  Downloading folium-0.16.0-py2.py3-none-any.whl.metadata (3.6 kB)\n",
      "Collecting opencage\n",
      "  Downloading opencage-2.4.0-py3-none-any.whl.metadata (5.8 kB)\n",
      "Requirement already satisfied: phonenumbers in c:\\ananconda_navigator\\lib\\site-packages (8.13.36)\n",
      "Collecting branca>=0.6.0 (from folium)\n",
      "  Downloading branca-0.7.2-py3-none-any.whl.metadata (1.5 kB)\n",
      "Requirement already satisfied: jinja2>=2.9 in c:\\ananconda_navigator\\lib\\site-packages (from folium) (3.1.3)\n",
      "Requirement already satisfied: numpy in c:\\ananconda_navigator\\lib\\site-packages (from folium) (1.26.4)\n",
      "Requirement already satisfied: requests in c:\\ananconda_navigator\\lib\\site-packages (from folium) (2.31.0)\n",
      "Requirement already satisfied: xyzservices in c:\\ananconda_navigator\\lib\\site-packages (from folium) (2022.9.0)\n",
      "Collecting backoff>=2.2.1 (from opencage)\n",
      "  Downloading backoff-2.2.1-py3-none-any.whl.metadata (14 kB)\n",
      "Requirement already satisfied: MarkupSafe>=2.0 in c:\\ananconda_navigator\\lib\\site-packages (from jinja2>=2.9->folium) (2.1.3)\n",
      "Requirement already satisfied: charset-normalizer<4,>=2 in c:\\ananconda_navigator\\lib\\site-packages (from requests->folium) (2.0.4)\n",
      "Requirement already satisfied: idna<4,>=2.5 in c:\\ananconda_navigator\\lib\\site-packages (from requests->folium) (3.4)\n",
      "Requirement already satisfied: urllib3<3,>=1.21.1 in c:\\ananconda_navigator\\lib\\site-packages (from requests->folium) (2.0.7)\n",
      "Requirement already satisfied: certifi>=2017.4.17 in c:\\ananconda_navigator\\lib\\site-packages (from requests->folium) (2024.2.2)\n",
      "Downloading folium-0.16.0-py2.py3-none-any.whl (100 kB)\n",
      "   ---------------------------------------- 0.0/100.0 kB ? eta -:--:--\n",
      "   ---------------------------------------- 0.0/100.0 kB ? eta -:--:--\n",
      "   ---------------------------------------- 0.0/100.0 kB ? eta -:--:--\n",
      "   ---------------------------------------- 0.0/100.0 kB ? eta -:--:--\n",
      "   ---------------- ----------------------- 41.0/100.0 kB 2.0 MB/s eta 0:00:01\n",
      "   ---------------- ----------------------- 41.0/100.0 kB 2.0 MB/s eta 0:00:01\n",
      "   ----------------------- --------------- 61.4/100.0 kB 550.5 kB/s eta 0:00:01\n",
      "   -------------------------------------- 100.0/100.0 kB 525.0 kB/s eta 0:00:00\n",
      "Downloading opencage-2.4.0-py3-none-any.whl (16 kB)\n",
      "Downloading backoff-2.2.1-py3-none-any.whl (15 kB)\n",
      "Downloading branca-0.7.2-py3-none-any.whl (25 kB)\n",
      "Installing collected packages: backoff, opencage, branca, folium\n",
      "Successfully installed backoff-2.2.1 branca-0.7.2 folium-0.16.0 opencage-2.4.0\n"
     ]
    },
    {
     "name": "stdin",
     "output_type": "stream",
     "text": [
      "Enter the PhoneNumber with the country code :  +91 6354979556\n"
     ]
    },
    {
     "name": "stdout",
     "output_type": "stream",
     "text": [
      "Location : India\n",
      "service provider : Reliance Jio\n"
     ]
    },
    {
     "ename": "NotAuthorizedError",
     "evalue": "Your API key is not authorized. You may have entered it incorrectly.",
     "output_type": "error",
     "traceback": [
      "\u001b[1;31m---------------------------------------------------------------------------\u001b[0m",
      "\u001b[1;31mNotAuthorizedError\u001b[0m                        Traceback (most recent call last)",
      "Cell \u001b[1;32mIn[13], line 20\u001b[0m\n\u001b[0;32m     18\u001b[0m geocoder \u001b[38;5;241m=\u001b[39m OpenCageGeocode(Key)\n\u001b[0;32m     19\u001b[0m query \u001b[38;5;241m=\u001b[39m \u001b[38;5;28mstr\u001b[39m(yourLocation)\n\u001b[1;32m---> 20\u001b[0m results \u001b[38;5;241m=\u001b[39m geocoder\u001b[38;5;241m.\u001b[39mgeocode(query)\n\u001b[0;32m     22\u001b[0m lat \u001b[38;5;241m=\u001b[39m results[\u001b[38;5;241m0\u001b[39m][\u001b[38;5;124m'\u001b[39m\u001b[38;5;124mgeometry\u001b[39m\u001b[38;5;124m'\u001b[39m][\u001b[38;5;124m'\u001b[39m\u001b[38;5;124mlat\u001b[39m\u001b[38;5;124m'\u001b[39m]\n\u001b[0;32m     23\u001b[0m lng \u001b[38;5;241m=\u001b[39m results[\u001b[38;5;241m0\u001b[39m][\u001b[38;5;124m'\u001b[39m\u001b[38;5;124mgeometry\u001b[39m\u001b[38;5;124m'\u001b[39m][\u001b[38;5;124m'\u001b[39m\u001b[38;5;124mlng\u001b[39m\u001b[38;5;124m'\u001b[39m]\n",
      "File \u001b[1;32mC:\\Ananconda_Navigator\\Lib\\site-packages\\opencage\\geocoder.py:195\u001b[0m, in \u001b[0;36mOpenCageGeocode.geocode\u001b[1;34m(self, query, **kwargs)\u001b[0m\n\u001b[0;32m    192\u001b[0m     \u001b[38;5;28;01mraise\u001b[39;00m AioHttpError(\u001b[38;5;124m\"\u001b[39m\u001b[38;5;124mCannot use `geocode` in an async context, use `geocode_async`.\u001b[39m\u001b[38;5;124m\"\u001b[39m)\n\u001b[0;32m    194\u001b[0m request \u001b[38;5;241m=\u001b[39m \u001b[38;5;28mself\u001b[39m\u001b[38;5;241m.\u001b[39m_parse_request(query, kwargs)\n\u001b[1;32m--> 195\u001b[0m response \u001b[38;5;241m=\u001b[39m \u001b[38;5;28mself\u001b[39m\u001b[38;5;241m.\u001b[39m_opencage_request(request)\n\u001b[0;32m    197\u001b[0m \u001b[38;5;28;01mreturn\u001b[39;00m floatify_latlng(response[\u001b[38;5;124m'\u001b[39m\u001b[38;5;124mresults\u001b[39m\u001b[38;5;124m'\u001b[39m])\n",
      "File \u001b[1;32mC:\\Ananconda_Navigator\\Lib\\site-packages\\backoff\\_sync.py:105\u001b[0m, in \u001b[0;36mretry_exception.<locals>.retry\u001b[1;34m(*args, **kwargs)\u001b[0m\n\u001b[0;32m     96\u001b[0m details \u001b[38;5;241m=\u001b[39m {\n\u001b[0;32m     97\u001b[0m     \u001b[38;5;124m\"\u001b[39m\u001b[38;5;124mtarget\u001b[39m\u001b[38;5;124m\"\u001b[39m: target,\n\u001b[0;32m     98\u001b[0m     \u001b[38;5;124m\"\u001b[39m\u001b[38;5;124margs\u001b[39m\u001b[38;5;124m\"\u001b[39m: args,\n\u001b[1;32m   (...)\u001b[0m\n\u001b[0;32m    101\u001b[0m     \u001b[38;5;124m\"\u001b[39m\u001b[38;5;124melapsed\u001b[39m\u001b[38;5;124m\"\u001b[39m: elapsed,\n\u001b[0;32m    102\u001b[0m }\n\u001b[0;32m    104\u001b[0m \u001b[38;5;28;01mtry\u001b[39;00m:\n\u001b[1;32m--> 105\u001b[0m     ret \u001b[38;5;241m=\u001b[39m target(\u001b[38;5;241m*\u001b[39margs, \u001b[38;5;241m*\u001b[39m\u001b[38;5;241m*\u001b[39mkwargs)\n\u001b[0;32m    106\u001b[0m \u001b[38;5;28;01mexcept\u001b[39;00m exception \u001b[38;5;28;01mas\u001b[39;00m e:\n\u001b[0;32m    107\u001b[0m     max_tries_exceeded \u001b[38;5;241m=\u001b[39m (tries \u001b[38;5;241m==\u001b[39m max_tries_value)\n",
      "File \u001b[1;32mC:\\Ananconda_Navigator\\Lib\\site-packages\\opencage\\geocoder.py:274\u001b[0m, in \u001b[0;36mOpenCageGeocode._opencage_request\u001b[1;34m(self, params)\u001b[0m\n\u001b[0;32m    271\u001b[0m     \u001b[38;5;28;01mraise\u001b[39;00m UnknownError(\u001b[38;5;124m\"\u001b[39m\u001b[38;5;124mNon-JSON result from server\u001b[39m\u001b[38;5;124m\"\u001b[39m) \u001b[38;5;28;01mfrom\u001b[39;00m \u001b[38;5;21;01mexcinfo\u001b[39;00m\n\u001b[0;32m    273\u001b[0m \u001b[38;5;28;01mif\u001b[39;00m response\u001b[38;5;241m.\u001b[39mstatus_code \u001b[38;5;241m==\u001b[39m \u001b[38;5;241m401\u001b[39m:\n\u001b[1;32m--> 274\u001b[0m     \u001b[38;5;28;01mraise\u001b[39;00m NotAuthorizedError()\n\u001b[0;32m    276\u001b[0m \u001b[38;5;28;01mif\u001b[39;00m response\u001b[38;5;241m.\u001b[39mstatus_code \u001b[38;5;241m==\u001b[39m \u001b[38;5;241m403\u001b[39m:\n\u001b[0;32m    277\u001b[0m     \u001b[38;5;28;01mraise\u001b[39;00m ForbiddenError()\n",
      "\u001b[1;31mNotAuthorizedError\u001b[0m: Your API key is not authorized. You may have entered it incorrectly."
     ]
    }
   ],
   "source": [
    "!pip install folium opencage phonenumbers\n",
    "import phonenumbers\n",
    "from phonenumbers import geocoder\n",
    "from phonenumbers import carrier\n",
    " \n",
    "import folium\n",
    "from opencage.geocoder import OpenCageGeocode\n",
    "number = input(\"Enter the PhoneNumber with the country code : \")\n",
    "phoneNumber = phonenumbers.parse(number)\n",
    "Key = \" Enter your Api\" #generate your api https://opencagedata.com/api\n",
    "\n",
    "yourLocation = geocoder.description_for_number(phoneNumber,\"en\")\n",
    "print(\"Location : \"+yourLocation)\n",
    "\n",
    "yourServiceProvider = carrier.name_for_number(phoneNumber,\"en\")\n",
    "print(\"service provider : \"+yourServiceProvider)\n",
    "\n",
    "geocoder = OpenCageGeocode(Key)\n",
    "query = str(yourLocation)\n",
    "results = geocoder.geocode(query)\n",
    "\n",
    "lat = results[0]['geometry']['lat']\n",
    "lng = results[0]['geometry']['lng']\n",
    "\n",
    "myMap = folium.Map(loction=[lat,lng],zoom_start = 9)\n",
    "\n",
    "folium.Marker([lat,lng],popup=yourLocation).add_to(myMap)\n",
    "\n",
    "myMap.save(\"Location.html\")"
   ]
  },
  {
   "cell_type": "code",
   "execution_count": null,
   "id": "af3d24ca-4a6e-4562-a45f-1261a66ab413",
   "metadata": {},
   "outputs": [],
   "source": []
  }
 ],
 "metadata": {
  "kernelspec": {
   "display_name": "Python 3 (ipykernel)",
   "language": "python",
   "name": "python3"
  },
  "language_info": {
   "codemirror_mode": {
    "name": "ipython",
    "version": 3
   },
   "file_extension": ".py",
   "mimetype": "text/x-python",
   "name": "python",
   "nbconvert_exporter": "python",
   "pygments_lexer": "ipython3",
   "version": "3.11.7"
  }
 },
 "nbformat": 4,
 "nbformat_minor": 5
}
