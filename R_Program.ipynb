{
 "cells": [
  {
   "cell_type": "code",
   "execution_count": 1,
   "id": "a37f6324-a7b9-482a-b392-7675962a4105",
   "metadata": {},
   "outputs": [
    {
     "name": "stdin",
     "output_type": "stream",
     "text": [
      "Enter Your Name:- Arshil\n",
      "Enter Your Age:- 21\n"
     ]
    },
    {
     "name": "stdout",
     "output_type": "stream",
     "text": [
      "My Name is Arshil and , I am  21 years old.\n",
      "1R version 3.6.1 (2019-07-05) \n"
     ]
    }
   ],
   "source": [
    "# 11) Write a R program to take input from the user (name and age) and display the values. Also print the version of R installation.\n",
    "Name <- readline(prompt=\"Enter Your Name:-\")\n",
    "Age <- readline(prompt=\"Enter Your Age:-\")\n",
    "cat(\"My Name is\",Name,\"and , I am \",Age,\"years old.\\n1\")\n",
    "cat(R.version.string,\"\\n\")"
   ]
  },
  {
   "cell_type": "code",
   "execution_count": 3,
   "id": "c7aaec0b-e243-4e9f-b413-50ea6592332f",
   "metadata": {},
   "outputs": [
    {
     "name": "stdin",
     "output_type": "stream",
     "text": [
      "Enter a Number Here 15\n"
     ]
    },
    {
     "name": "stdout",
     "output_type": "stream",
     "text": [
      "[1] \"15 is Odd\"\n"
     ]
    }
   ],
   "source": [
    "# 12) Find the number is odd or even.\n",
    "N1 <- as.integer(readline(prompt=\"Enter a Number Here\"))\n",
    "if((N1%%2)==0){\n",
    "    print(paste(N1,\"is Even\"))\n",
    "}else{\n",
    "    print(paste(N1,\"is Odd\"))\n",
    "}"
   ]
  },
  {
   "cell_type": "code",
   "execution_count": 9,
   "id": "a00fb1a7-6bb6-404b-a847-f877e84b896b",
   "metadata": {},
   "outputs": [
    {
     "name": "stdin",
     "output_type": "stream",
     "text": [
      "Enter a Year:- 2000\n"
     ]
    },
    {
     "name": "stdout",
     "output_type": "stream",
     "text": [
      "[1] \"2000 is leap year\"\n"
     ]
    }
   ],
   "source": [
    "# 13) Find the year is leap year or not.\n",
    "yy <- as.integer(readline(prompt=\"Enter a Year:-\"))\n",
    "if((yy%%4)==0)\n",
    "{\n",
    "    if((yy%%100)==0)\n",
    "    {\n",
    "        if((yy%%400)==0)\n",
    "        {\n",
    "            print(paste(yy,\"is leap year\"))\n",
    "        }else\n",
    "        {\n",
    "            print(paste(yy,\"is not a leap year\"))\n",
    "        }\n",
    "    }else\n",
    "    {\n",
    "        print(paste(yy,\"is leap year\"))\n",
    "    }\n",
    "}else\n",
    "{\n",
    "    print(paste(yy,\"is not a leap year\"))\n",
    "}"
   ]
  },
  {
   "cell_type": "code",
   "execution_count": 10,
   "id": "1f2f383d-4a56-45bf-be52-bd7852193dfa",
   "metadata": {},
   "outputs": [
    {
     "name": "stdin",
     "output_type": "stream",
     "text": [
      "Enter the first number:  18\n",
      "Enter the second number:  19\n",
      "Enter the third number:  20\n"
     ]
    },
    {
     "name": "stdout",
     "output_type": "stream",
     "text": [
      "[1] \"The greatest number is: 20\"\n"
     ]
    }
   ],
   "source": [
    "# 14) Find the maximum number among three numbers.\n",
    "x <- as.integer(readline(prompt = \"Enter the first number: \"))\n",
    "y <- as.integer(readline(prompt = \"Enter the second number: \"))\n",
    "z <- as.integer(readline(prompt = \"Enter the third number: \"))\n",
    "\n",
    "if (x > y && x > z) {\n",
    "    print(paste(\"The greatest number is:\", x))\n",
    "} else if (y > z) {\n",
    "    print(paste(\"The greatest number is:\", y))\n",
    "} else {\n",
    "    print(paste(\"The greatest number is:\", z))\n",
    "}"
   ]
  },
  {
   "cell_type": "code",
   "execution_count": 11,
   "id": "8a6a3bce-47a1-443a-8063-5917434c9b08",
   "metadata": {},
   "outputs": [
    {
     "name": "stdin",
     "output_type": "stream",
     "text": [
      "Enter the first number:  80\n",
      "Enter the second number:  90\n",
      "Enter the third number:  40\n",
      "Enter the fourth number:  20\n"
     ]
    },
    {
     "name": "stdout",
     "output_type": "stream",
     "text": [
      "[1] \"The minimum number is: 20\"\n"
     ]
    }
   ],
   "source": [
    "# 15) Find the minimum number among four numbers.\n",
    "N1 <- as.numeric(readline(prompt = \"Enter the first number: \"))\n",
    "N2 <- as.numeric(readline(prompt = \"Enter the second number: \"))\n",
    "N3 <- as.numeric(readline(prompt = \"Enter the third number: \"))\n",
    "N4 <- as.numeric(readline(prompt = \"Enter the fourth number: \"))\n",
    "\n",
    "Min <- min(N1, N2, N3, N4)\n",
    "\n",
    "print(paste(\"The minimum number is:\", Min))"
   ]
  },
  {
   "cell_type": "code",
   "execution_count": 12,
   "id": "a4000329-9035-41ef-9fc0-7e8a492d912b",
   "metadata": {},
   "outputs": [
    {
     "name": "stdin",
     "output_type": "stream",
     "text": [
      "Enter a number:  105\n"
     ]
    },
    {
     "name": "stdout",
     "output_type": "stream",
     "text": [
      "[1] \"Sum of the digits is: 6\"\n"
     ]
    }
   ],
   "source": [
    "# 16) Program to find the sum of the digits of the number.\n",
    "N1 <- as.integer(readline(prompt = \"Enter a number: \"))\n",
    "sum <- 0\n",
    "\n",
    "while (N1 > 0) {\n",
    "    digits <- N1 %% 10\n",
    "    sum <- sum + digits\n",
    "    N1 <- N1 %/% 10\n",
    "}\n",
    "\n",
    "print(paste(\"Sum of the digits is:\", sum))"
   ]
  },
  {
   "cell_type": "code",
   "execution_count": 13,
   "id": "3278a9c9-059f-4ec1-840b-90fda2c038e4",
   "metadata": {},
   "outputs": [
    {
     "name": "stdin",
     "output_type": "stream",
     "text": [
      "Enter a number:  153\n"
     ]
    },
    {
     "name": "stdout",
     "output_type": "stream",
     "text": [
      "[1] \"153 is an Armstrong number\"\n"
     ]
    }
   ],
   "source": [
    "# 17) Program to check a number is Armstrong or not.\n",
    "N1 <- as.integer(readline(prompt = \"Enter a number: \"))\n",
    "original_N1 <- N1\n",
    "Armstrong <- 0\n",
    "length <- nchar(N1)\n",
    "\n",
    "while (N1 > 0) {\n",
    "    digits <- N1 %% 10\n",
    "    Armstrong <- Armstrong + digits^length\n",
    "    N1 <- N1 %/% 10\n",
    "}\n",
    "\n",
    "if (Armstrong == original_N1) {\n",
    "    print(paste(original_N1, \"is an Armstrong number\"))\n",
    "} else {\n",
    "    print(paste(original_N1, \"is not an Armstrong number\"))\n",
    "}"
   ]
  },
  {
   "cell_type": "code",
   "execution_count": 14,
   "id": "1a2d3117-6385-4879-8c77-ca2c3e144670",
   "metadata": {},
   "outputs": [
    {
     "name": "stdout",
     "output_type": "stream",
     "text": [
      "Fibonacci Sequence:0  1  1  2  3  5  8  13  21  34  "
     ]
    }
   ],
   "source": [
    "# 18) Write a R program to get the first 10 Fibonacci numbers.\n",
    "fibonacci <- function(n) {\n",
    "    a <- 0\n",
    "    b <- 1\n",
    "    cat(\"Fibonacci Sequence:\")\n",
    "    for (i in 1:n) {\n",
    "        cat(a, \" \")\n",
    "        next_num <- a + b\n",
    "        a <- b\n",
    "        b <- next_num\n",
    "    }\n",
    "}\n",
    "\n",
    "number_of_terms <- 10\n",
    "fibonacci(number_of_terms)"
   ]
  },
  {
   "cell_type": "code",
   "execution_count": 15,
   "id": "996158b7-c66a-444c-b8f9-8be04b8df25b",
   "metadata": {},
   "outputs": [
    {
     "name": "stdout",
     "output_type": "stream",
     "text": [
      "The factors of 120 are:  1  2  3  4  5  6  8  10  12  15  20  24  30  40  60  120\n"
     ]
    }
   ],
   "source": [
    "# 19) Write a R program to find the factors of a given number.\n",
    "factors <- function(n) {\n",
    "    cat(\"The factors of\", n, \"are:\")\n",
    "    for (i in 1:n) {\n",
    "        if ((n %% i) == 0) {\n",
    "            cat(\" \", i)\n",
    "        }\n",
    "    }\n",
    "    cat(\"\\n\")\n",
    "}\n",
    "factors(120)"
   ]
  },
  {
   "cell_type": "code",
   "execution_count": 17,
   "id": "984cac8e-05b6-455e-9546-d0708cfa90f0",
   "metadata": {},
   "outputs": [
    {
     "name": "stdout",
     "output_type": "stream",
     "text": [
      "Square of 1 is 1 \n",
      "Square of 2 is 4 \n",
      "Square of 3 is 9 \n",
      "Square of 4 is 16 \n",
      "Square of 5 is 25 \n",
      "Square of 6 is 36 \n",
      "Square of 7 is 49 \n",
      "Square of 8 is 64 \n",
      "Square of 9 is 81 \n",
      "Square of 10 is 100 \n"
     ]
    }
   ],
   "source": [
    "# 20) Program to Creating a function to print squares of numbers in sequence.\n",
    "squares <- function(n) {\n",
    "    for (i in 1:n) {\n",
    "        square <- i^2\n",
    "        cat(\"Square of\", i, \"is\", square, \"\\n\")\n",
    "    }\n",
    "}\n",
    "squares(10)"
   ]
  },
  {
   "cell_type": "code",
   "execution_count": 3,
   "id": "9751cdcf-f0c0-49bd-b81c-b4217407d9f2",
   "metadata": {},
   "outputs": [
    {
     "name": "stdout",
     "output_type": "stream",
     "text": [
      "Created Array:\n",
      ", , 1\n",
      "\n",
      "     [,1] [,2] [,3]\n",
      "[1,]    1    4    7\n",
      "[2,]    2    5    8\n",
      "[3,]    3    6    9\n",
      "\n",
      ", , 2\n",
      "\n",
      "     [,1] [,2] [,3]\n",
      "[1,]   10   13   16\n",
      "[2,]   11   14   17\n",
      "[3,]   12   15   18\n",
      "\n"
     ]
    }
   ],
   "source": [
    "# 21) Write a R program to create an array of two 3x3 matrices each with 3 rows and 3 columns from two given two vectors.\n",
    "V1 <- 1:9\n",
    "V2 <- 10:18\n",
    "M1 <- matrix(V1, nrow = 3)\n",
    "M2 <- matrix(V2, nrow = 3)\n",
    "Array1 <- array(c(M1, M2), dim = c(3, 3, 2))\n",
    "cat(\"Created Array:\\n\")\n",
    "print(Array1)"
   ]
  },
  {
   "cell_type": "code",
   "execution_count": 5,
   "id": "94e82683-4aa9-4a78-9f1c-48b3eb4ba4be",
   "metadata": {},
   "outputs": [
    {
     "name": "stdout",
     "output_type": "stream",
     "text": [
      "Second row of the second matrix:\n",
      "[1] 11 14 17\n",
      "Element in the 3rd row and 3rd column of the 1st matrix:\n",
      "[1] 9\n"
     ]
    }
   ],
   "source": [
    "# 22) Write a R program to create an array of two 3x3 matrices each with 3 rows and 3 columns from two given two vectors. Print the second row of the second matrix of the array and the element in the 3rd row and 3rd column of the 1st matrix.\n",
    "V1 <- 1:9\n",
    "V2 <- 10:18\n",
    "M1 <- matrix(V1, nrow = 3)\n",
    "M2 <- matrix(V2, nrow = 3)\n",
    "Array <- array(c(M1, M2), dim = c(3, 3, 2))\n",
    "cat(\"Second row of the second matrix:\\n\")\n",
    "print(Array[2, , 2])\n",
    "cat(\"Element in the 3rd row and 3rd column of the 1st matrix:\\n\")\n",
    "print(Array[3, 3, 1])"
   ]
  },
  {
   "cell_type": "code",
   "execution_count": 7,
   "id": "9dac13c9-d951-46f3-ba8b-2ddf048632bf",
   "metadata": {},
   "outputs": [
    {
     "name": "stdout",
     "output_type": "stream",
     "text": [
      "Substring: Hello \n",
      "Matching indices: 2 \n",
      "Modified text: Hello, Arshil! \n",
      "Combined text: Hello from arshil \n",
      "Words: How are you? \n",
      "Lowercase text: hello, world! \n",
      "Uppercase text: HELLO, WORLD! \n"
     ]
    }
   ],
   "source": [
    "# 23) Perform a following String functions : \n",
    "#     1. substr(x, start=n1,stop=n2) \n",
    "#     2. grep(pattern, x , ignore.case=FALSE, fixed=FALSE) \n",
    "#     3. sub(pattern, replacement, x, ignore.case =FALSE, fixed=FALSE) \n",
    "#     4. paste(..., sep=\"\") \n",
    "#     5. strsplit(x, split) \n",
    "#     6. tolower(x) \n",
    "#     7. toupper(x)\n",
    "\n",
    "#1)\n",
    "str1 <- \"Hello, World!\"\n",
    "Sub_str1 <- substr(str1, start = 1, stop = 5)\n",
    "cat(\"Substring:\", Sub_str1, \"\\n\")\n",
    "#2)\n",
    "V1 <- c(\"apple\", \"banana\", \"grape\", \"cherry\")\n",
    "matching_indices <- grep(\"an\",V1)\n",
    "cat(\"Matching indices:\", matching_indices, \"\\n\")\n",
    "#3)\n",
    "txt1 <- \"Hello, world!\"\n",
    "txt2 <- sub(\"world\", \"Arshil\", txt1)\n",
    "cat(\"Modified text:\", txt2, \"\\n\")\n",
    "#4)\n",
    "words <- c(\"Hello\", \"from\", \"arshil\")\n",
    "combined_text <- paste(words, collapse = \" \")\n",
    "cat(\"Combined text:\", combined_text, \"\\n\")\n",
    "#5)\n",
    "my_sentence <- \"How are you?\"\n",
    "words_list <- strsplit(my_sentence, split = \" \")\n",
    "cat(\"Words:\", unlist(words_list), \"\\n\")\n",
    "#6)\n",
    "my_text <- \"Hello, World!\"\n",
    "lowercase_text <- tolower(my_text)\n",
    "cat(\"Lowercase text:\", lowercase_text, \"\\n\")\n",
    "#7)\n",
    "my_text <- \"Hello, World!\"\n",
    "uppercase_text <- toupper(my_text)\n",
    "cat(\"Uppercase text:\", uppercase_text, \"\\n\")"
   ]
  },
  {
   "cell_type": "code",
   "execution_count": 8,
   "id": "b8999d73-38ba-406f-bab7-35b754b8b846",
   "metadata": {},
   "outputs": [
    {
     "name": "stdout",
     "output_type": "stream",
     "text": [
      "Combined vector: 1 2 3 4 5 6 \n",
      "Addition: 5 7 9 \n",
      "Subtraction: -3 -3 -3 \n",
      "Multiplication: 4 10 18 \n",
      "Division: 1 1 1 \n",
      "Logical index vector: FALSE FALSE TRUE TRUE TRUE \n",
      "Third element: 30 \n",
      "Selected elements: 10 30 50 \n",
      "Range elements: 20 30 40 \n",
      "Out-of-order elements: 50 10 30 \n",
      "Named vector: 10 20 30 40 50 \n"
     ]
    }
   ],
   "source": [
    "# 24) Perform a following Vector operations : \n",
    "#    1. Combining vectors \n",
    "#    2. Arithmetic operations \n",
    "#    3. Logical Index vector \n",
    "#    4. Numeric Index \n",
    "#    5. Duplicate Index \n",
    "#    6. Range Indexes \n",
    "#    7. Out-of-order Indexes \n",
    "#    8. Named vectors members\n",
    "\n",
    "#1)\n",
    "V1 <- c(1, 2, 3)\n",
    "V2 <- c(4, 5, 6)\n",
    "combined_vector <- c(V1, V2)\n",
    "cat(\"Combined vector:\", combined_vector, \"\\n\")\n",
    "#2)\n",
    "V1 <- c(1, 2, 3)\n",
    "V2 <- c(4, 5, 6)\n",
    "Addition <- V1 + V2\n",
    "Subtraction <- V1 - V2\n",
    "Multiplication <- V1 * V2\n",
    "Division <- V2 / V2\n",
    "cat(\"Addition:\", Addition, \"\\n\")\n",
    "cat(\"Subtraction:\", Subtraction, \"\\n\")\n",
    "cat(\"Multiplication:\", Multiplication, \"\\n\")\n",
    "cat(\"Division:\", Division, \"\\n\")\n",
    "#3)\n",
    "V1 <- c(10, 20, 30, 40, 50)\n",
    "Logical <- V1 > 25\n",
    "cat(\"Logical index vector:\", Logical, \"\\n\")\n",
    "#4)\n",
    "V1 <- c(10, 20, 30, 40, 50)\n",
    "X <- V1[3]\n",
    "cat(\"Third element:\", X, \"\\n\")\n",
    "#5)\n",
    "V1 <- c(10, 20, 30, 40, 50)\n",
    "Y <- V1[c(1, 3, 5)]\n",
    "cat(\"Selected elements:\", Y, \"\\n\")\n",
    "#6)\n",
    "V1 <- c(10, 20, 30, 40, 50)\n",
    "Z <- V1[2:4]\n",
    "cat(\"Range elements:\", Z, \"\\n\")\n",
    "#7)\n",
    "V1 <- c(10, 20, 30, 40, 50)\n",
    "A <- V1[c(5, 1, 3)]\n",
    "cat(\"Out-of-order elements:\", A, \"\\n\")\n",
    "#8)\n",
    "V1 <- c(10, 20, 30, 40, 50)\n",
    "names(V1) <- c(\"A\", \"B\", \"C\", \"D\", \"E\")\n",
    "cat(\"Named vector:\", V1, \"\\n\")"
   ]
  },
  {
   "cell_type": "code",
   "execution_count": 9,
   "id": "70965b67-afc8-4b18-8ded-ea259b66a1c7",
   "metadata": {},
   "outputs": [
    {
     "name": "stdout",
     "output_type": "stream",
     "text": [
      "Original Vectors:\n",
      "[1] 10 20 30\n",
      "[1] 20 10 40\n",
      "After adding two Vectors:\n",
      "[1] 30 30 70\n"
     ]
    }
   ],
   "source": [
    "# 25) Write a R program to add two vectors of integers type and length 3.\n",
    "\n",
    "V1 <- c(10, 20, 30)\n",
    "V2 <- c(20, 10, 40)\n",
    "Add <- V1 + V2\n",
    "cat(\"Original Vectors:\\n\")\n",
    "print(V1)\n",
    "print(V2)\n",
    "cat(\"After adding two Vectors:\\n\")\n",
    "print(Add)"
   ]
  },
  {
   "cell_type": "code",
   "execution_count": 2,
   "id": "bd657b2c-c046-4c4f-b146-a7f06fd520eb",
   "metadata": {},
   "outputs": [
    {
     "name": "stdout",
     "output_type": "stream",
     "text": [
      "List with column names:\n",
      "$Color\n",
      "[1] \"Red\"   \"Green\" \"Black\"\n",
      "\n",
      "$Matrix\n",
      "     [,1] [,2] [,3]\n",
      "[1,]    1    5    9\n",
      "[2,]    3    7   11\n",
      "\n",
      "$Lang\n",
      "$Lang[[1]]\n",
      "[1] \"Python\"\n",
      "\n",
      "$Lang[[2]]\n",
      "[1] \"PHP\"\n",
      "\n",
      "$Lang[[3]]\n",
      "[1] \"Java\"\n",
      "\n",
      "\n",
      "First element (Color):\n",
      "[1] \"Red\"   \"Green\" \"Black\"\n",
      "Second element (Matrix):\n",
      "     [,1] [,2] [,3]\n",
      "[1,]    1    5    9\n",
      "[2,]    3    7   11\n",
      "Third element (Lang):\n",
      "[[1]]\n",
      "[1] \"Python\"\n",
      "\n",
      "[[2]]\n",
      "[1] \"PHP\"\n",
      "\n",
      "[[3]]\n",
      "[1] \"Java\"\n",
      "\n"
     ]
    }
   ],
   "source": [
    "# 26) Write a R program to list containing a vector, a matrix and a list and give names to the elements in the list.\n",
    "List <- list(\n",
    "  Color = c(\"Red\", \"Green\", \"Black\"),\n",
    "  Matrix = matrix(c(1, 3, 5, 7, 9, 11), nrow = 2),\n",
    "  Lang = list(\"Python\", \"PHP\", \"Java\")\n",
    ")\n",
    "# Print the list with column names\n",
    "cat(\"List with column names:\\n\")\n",
    "print(List)\n",
    "# Access specific elements\n",
    "cat(\"First element (Color):\\n\")\n",
    "print(List$Color)\n",
    "cat(\"Second element (Matrix):\\n\")\n",
    "print(List$Matrix)\n",
    "cat(\"Third element (Lang):\\n\")\n",
    "print(List$Lang)"
   ]
  },
  {
   "cell_type": "code",
   "execution_count": 3,
   "id": "c772715e-9b83-4be3-9d0e-38fa0d8c5336",
   "metadata": {},
   "outputs": [
    {
     "name": "stdout",
     "output_type": "stream",
     "text": [
      "    Name Marks Attempts Result\n",
      "1 Arshil  12.5        1    yes\n",
      "2 Jaydip   9.0        3     no\n",
      "3 Bhavin  16.5        2    yes\n",
      "4 Jayraj  12.0        3     no\n",
      "5 Khushi   9.0        2     no\n",
      "6 Dhruvi  20.0        3    yes\n",
      "7  Margi  14.5        1    yes\n"
     ]
    }
   ],
   "source": [
    "# 27) Write a R program to create a data frame from four given vectors.\n",
    "Name <- c('Arshil', 'Jaydip', 'Bhavin', 'Jayraj', 'Khushi', 'Dhruvi', 'Margi')\n",
    "Marks <- c(12.5, 9, 16.5, 12, 9, 20, 14.5)\n",
    "Attempts <- c(1, 3, 2, 3, 2, 3, 1)\n",
    "Result <- c('yes', 'no', 'yes', 'no', 'no', 'yes', 'yes')\n",
    "# Create a data frame\n",
    "df <- data.frame(Name, Marks, Attempts, Result)\n",
    "# Print the data frame\n",
    "print(df)"
   ]
  },
  {
   "cell_type": "code",
   "execution_count": 4,
   "id": "ec14e8f8-1417-4611-b77d-a022d82b9544",
   "metadata": {},
   "outputs": [
    {
     "name": "stdout",
     "output_type": "stream",
     "text": [
      "Levels of the factor in the given vector:\n",
      "[1] \"female\" \"male\"   \"other\" \n"
     ]
    }
   ],
   "source": [
    "# 28) Write a R program to find the levels of factor of a given vector.\n",
    "Data <- c(\"female\", \"female\", \"male\", \"male\", \"other\")\n",
    "# Convert the vector data into a factor\n",
    "factor_data <- factor(Data)\n",
    "# Get the levels of the factor\n",
    "factor_levels <- levels(factor_data)\n",
    "# Print the levels\n",
    "cat(\"Levels of the factor in the given vector:\\n\")\n",
    "print(factor_levels)"
   ]
  },
  {
   "cell_type": "code",
   "execution_count": 5,
   "id": "ca078ff9-4b72-40b6-b724-729b537d0afc",
   "metadata": {},
   "outputs": [
    {
     "name": "stdout",
     "output_type": "stream",
     "text": [
      "  ï..Roll.Number Name S1.Java S1.C. S2.Java S2.C.\n",
      "1              1    A      40    38      35    33\n",
      "2              2    B      30    35      33    31\n",
      "3              3    C      48    45      38    40\n",
      "4              4    D      35    38      40    38\n",
      "5              5    E      40    42      39    35\n",
      "[1] 5\n",
      "[1] 6\n"
     ]
    }
   ],
   "source": [
    "# 29) Write a program to read a .csv file and analyze the data in the file in R.\n",
    "Data <- read.csv(file=\"C:\\\\Mahammad_Arshil\\\\College(M.Sc. IT)\\\\Sem-2\\\\Lab Manual\\\\Data Science\\\\Book1.csv\")\n",
    "print(Data)\n",
    "print(nrow(Data))\n",
    "print(ncol(Data))"
   ]
  },
  {
   "cell_type": "code",
   "execution_count": 23,
   "id": "4443a2e0-b1c1-4470-8997-a9663731e59b",
   "metadata": {},
   "outputs": [
    {
     "data": {
      "image/png": "[encoded data removed]",
      "text/plain": [
       "plot without title"
      ]
     },
     "metadata": {},
     "output_type": "display_data"
    },
    {
     "data": {
      "image/png": "[encoded data removed]",
      "text/plain": [
       "Plot with title \"Bar Chart\""
      ]
     },
     "metadata": {},
     "output_type": "display_data"
    },
    {
     "data": {
      "image/png": "[encoded data removed]",
      "text/plain": [
       "Plot with title \"Basic Boxplot\""
      ]
     },
     "metadata": {},
     "output_type": "display_data"
    },
    {
     "data": {
      "image/png": "[encoded data removed]",
      "text/plain": [
       "Plot with title \"Maximum Daily Temperature at Vidhyanagar\""
      ]
     },
     "metadata": {},
     "output_type": "display_data"
    },
    {
     "data": {
      "image/png": "[encoded data removed]",
      "text/plain": [
       "Plot with title \"Simple Line Graph\""
      ]
     },
     "metadata": {},
     "output_type": "display_data"
    },
    {
     "data": {
      "image/png": "[encoded data removed]",
      "text/plain": [
       "Plot with title \"Simple Scatterplot\""
      ]
     },
     "metadata": {},
     "output_type": "display_data"
    }
   ],
   "source": [
    "# 30) Perform a following Data Visualization : \n",
    "#    1. R Pie Charts \n",
    "#    2. R Bar Charts \n",
    "#    3. R Boxplot \n",
    "#    4. R Histogram \n",
    "#    5. R Line Graphs \n",
    "#    6. R Scatterplots\n",
    "#1)\n",
    "A <- c(23, 56, 20, 63)\n",
    "B <- c(\"Mumbai\", \"Pune\", \"Chennai\", \"Bangalore\")\n",
    "pie(A,B)\n",
    "\n",
    "#2)\n",
    "A <- c(17, 32, 8, 53, 1)\n",
    "B <- c(\"Mumbai\", \"Pune\", \"Chennai\", \"Bangalore\")\n",
    "barplot(A, xlab = \"X-axis\", ylab = \"Y-axis\", main = \"Bar Chart\")\n",
    "\n",
    "#3)\n",
    "Values <- c(10, 15, 20, 25, 30, 35, 40)\n",
    "boxplot(Values, main = \"Basic Boxplot\")\n",
    "\n",
    "#4)\n",
    "temperatures <- airquality$Temp\n",
    "hist(temperatures, main = \"Maximum Daily Temperature at Vidhyanagar\", xlab = \"Temperature (degrees Fahrenheit)\", col = \"darkmagenta\")\n",
    "\n",
    "#5)\n",
    "v <- c(17, 25, 38, 13, 41)\n",
    "plot(v, type = \"o\", main = \"Simple Line Graph\")\n",
    "\n",
    "#6)\n",
    "x <- c(1, 2, 3, 4, 5)\n",
    "y <- c(10, 15, 8, 12, 20)\n",
    "plot(x, y, pch = 19, col = \"black\", main = \"Simple Scatterplot\")\n"
   ]
  }
 ],
 "metadata": {
  "kernelspec": {
   "display_name": "R",
   "language": "R",
   "name": "ir"
  },
  "language_info": {
   "codemirror_mode": "r",
   "file_extension": ".r",
   "mimetype": "text/x-r-source",
   "name": "R",
   "pygments_lexer": "r",
   "version": "3.6.1"
  }
 },
 "nbformat": 4,
 "nbformat_minor": 5
}
